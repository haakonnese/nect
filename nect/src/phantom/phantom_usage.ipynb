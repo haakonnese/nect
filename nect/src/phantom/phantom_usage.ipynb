{
 "cells": [
  {
   "cell_type": "code",
   "execution_count": 1,
   "metadata": {},
   "outputs": [],
   "source": [
    "%load_ext autoreload\n",
    "%autoreload 2\n",
    "from nect.src.phantom.geometric import Phantom, Rectangle, Ellipse, Triangle, PhantomObject, Circle \n",
    "import matplotlib.pyplot as plt\n",
    "import numpy as np"
   ]
  },
  {
   "cell_type": "code",
   "execution_count": 2,
   "metadata": {},
   "outputs": [
    {
     "data": {
      "text/plain": [
       "<matplotlib.image.AxesImage at 0x1dbdd8c3670>"
      ]
     },
     "execution_count": 2,
     "metadata": {},
     "output_type": "execute_result"
    },
    {
     "data": {
      "image/png": "[encoded data removed]",
      "text/plain": [
       "<Figure size 640x480 with 1 Axes>"
      ]
     },
     "metadata": {},
     "output_type": "display_data"
    }
   ],
   "source": [
    "# Define geometric shapes\n",
    "rectangle = Rectangle(10, 10)\n",
    "triangle = Triangle(10, 10)\n",
    "ellipse = Ellipse(10, 10, 3, 5)\n",
    "\n",
    "# Define how the objects in a phantom move and change intensity with respect to time\n",
    "phantom_rectangle = PhantomObject(lambda tlbr, t : tlbr + t, lambda intensity, t : intensity, np.array([10, 10]), rectangle, intensity=1)\n",
    "phantom_rectangle2 = PhantomObject(lambda tlbr, t : tlbr + t, lambda intensity, t : intensity - 0.1*t, np.array([20, 20]), rectangle, intensity=5)\n",
    "phantom_triangle = PhantomObject(lambda tlbr, t : tlbr + t, lambda intensity, t: intensity + 0.1*t, np.array([30, 30]), triangle, intensity=1)\n",
    "phantom_ellipse = PhantomObject(lambda tlbr, t : np.array([tlbr[0], tlbr[1] - t, tlbr[2], tlbr[3] - t]), lambda intensity, t: intensity, np.array([50, 50]), ellipse, intensity=5)\n",
    "\n",
    "# Create a phantom and add the objects to it\n",
    "test_phantom = Phantom(size=(100,100), background_method=\"zeros\")\n",
    "test_phantom.add_phantom_object([phantom_rectangle, phantom_rectangle2, phantom_triangle, phantom_ellipse])\n",
    "\n",
    "# Save a video of the phantom for 30 frames\n",
    "test_phantom.save_video(time_steps=np.arange(0, 30, 1), filename=\"phantom_example.mp4\", fps=5)\n",
    "\n",
    "# Get the phantom image at time t=10\n",
    "phantom_img = test_phantom.get_phantom(t=10)\n",
    "plt.imshow(phantom_img, cmap='gray')"
   ]
  },
  {
   "cell_type": "code",
   "execution_count": 29,
   "metadata": {},
   "outputs": [
    {
     "data": {
      "text/plain": [
       "<matplotlib.image.AxesImage at 0x1dbe2632380>"
      ]
     },
     "execution_count": 29,
     "metadata": {},
     "output_type": "execute_result"
    },
    {
     "data": {
      "image/png": "[encoded data removed]",
      "text/plain": [
       "<Figure size 640x480 with 1 Axes>"
      ]
     },
     "metadata": {},
     "output_type": "display_data"
    }
   ],
   "source": [
    "from nect.src.phantom.utils import create_random_closed_geometry\n",
    "\n",
    "phantom = Phantom(size=(300,300), background_method=\"zeros\")\n",
    "circle = Circle(300, 300, 150)\n",
    "rectangle = Rectangle(40,80)\n",
    "triangle = Triangle(40, 80)\n",
    "small_circle = Circle(20,20,10)\n",
    "ellipse = Ellipse(40, 80, 10, 20)\n",
    "random = create_random_closed_geometry(size=(50,50))\n",
    "\n",
    "def eom_horizontal(tlbr, t):\n",
    "    return tlbr + t * np.array([0, 1, 0, 1])\n",
    "def eom_vertical(tlbr, t):\n",
    "    return tlbr + t * np.array([1, 0, 1, 0])\n",
    "def eom_diagonal(tlbr, t):\n",
    "    return tlbr + t\n",
    "\n",
    "phantom_circle = PhantomObject(lambda tlbr, t : tlbr, lambda intensity, t : intensity, np.array([0, 0]), circle, intensity=.1)\n",
    "phantom_rectangle = PhantomObject(eom_horizontal, lambda intensity, t : intensity, np.array([60, 60]), rectangle, intensity=1)\n",
    "phantom_random = PhantomObject(eom_diagonal, lambda intensity, t : intensity, np.array([100, 100]), random, intensity=1)\n",
    "phantom_ellipse = PhantomObject(eom_vertical, lambda intensity, t : intensity, np.array([200, 200]), ellipse, intensity=1)\n",
    "phantom_small_circle = PhantomObject(eom_diagonal, lambda intensity, t : intensity, np.array([100, 200]), small_circle, intensity=1)\n",
    "phantom_triangle = PhantomObject(eom_diagonal, lambda intensity, t : intensity, np.array([200, 100]), triangle, intensity=1)\n",
    "\n",
    "phantom.add_phantom_object([phantom_circle, phantom_rectangle, phantom_random, phantom_ellipse, phantom_small_circle, phantom_triangle])\n",
    "phantom.save_video(time_steps=np.arange(0, 30, 1), filename=\"phantom_example.mp4\", fps=5)\n",
    "plt.imshow(phantom.get_phantom(t=0), cmap='gray')"
   ]
  },
  {
   "cell_type": "markdown",
   "metadata": {},
   "source": [
    "## 3D Phantom. See demo_3d_phantom for visualization"
   ]
  },
  {
   "cell_type": "code",
   "execution_count": 2,
   "metadata": {},
   "outputs": [],
   "source": [
    "from nect.src.phantom.geometric import Cuboid, Sphere\n",
    "import torch"
   ]
  },
  {
   "cell_type": "code",
   "execution_count": 14,
   "metadata": {},
   "outputs": [
    {
     "ename": "AssertionError",
     "evalue": "Initialization coordinates and geometry must have the same dimensionality.",
     "output_type": "error",
     "traceback": [
      "\u001b[1;31m---------------------------------------------------------------------------\u001b[0m",
      "\u001b[1;31mAssertionError\u001b[0m                            Traceback (most recent call last)",
      "\u001b[1;32mc:\\Users\\henri\\4D-CT\\4D-CT\\src\\phantom\\phantom_usage.ipynb Cell 6\u001b[0m line \u001b[0;36m4\n\u001b[0;32m      <a href='vscode-notebook-cell:/c%3A/Users/henri/4D-CT/4D-CT/src/phantom/phantom_usage.ipynb#W5sZmlsZQ%3D%3D?line=0'>1</a>\u001b[0m cuboid \u001b[39m=\u001b[39m Cuboid(\u001b[39m10\u001b[39m, \u001b[39m25\u001b[39m, \u001b[39m50\u001b[39m)\n\u001b[0;32m      <a href='vscode-notebook-cell:/c%3A/Users/henri/4D-CT/4D-CT/src/phantom/phantom_usage.ipynb#W5sZmlsZQ%3D%3D?line=1'>2</a>\u001b[0m sphere \u001b[39m=\u001b[39m Sphere(\u001b[39m20\u001b[39m, \u001b[39m20\u001b[39m, \u001b[39m20\u001b[39m, \u001b[39m10\u001b[39m)\n\u001b[1;32m----> <a href='vscode-notebook-cell:/c%3A/Users/henri/4D-CT/4D-CT/src/phantom/phantom_usage.ipynb#W5sZmlsZQ%3D%3D?line=3'>4</a>\u001b[0m cuboid_obj \u001b[39m=\u001b[39m PhantomObject(eom\u001b[39m=\u001b[39;49m\u001b[39mlambda\u001b[39;49;00m tlbr, t: tlbr, eoi\u001b[39m=\u001b[39;49m \u001b[39mlambda\u001b[39;49;00m intensity, t: intensity, tl\u001b[39m=\u001b[39;49mtorch\u001b[39m.\u001b[39;49mtensor([\u001b[39m0\u001b[39;49m,\u001b[39m0\u001b[39;49m]), geometry\u001b[39m=\u001b[39;49mcuboid, intensity\u001b[39m=\u001b[39;49m\u001b[39m1\u001b[39;49m)\n\u001b[0;32m      <a href='vscode-notebook-cell:/c%3A/Users/henri/4D-CT/4D-CT/src/phantom/phantom_usage.ipynb#W5sZmlsZQ%3D%3D?line=4'>5</a>\u001b[0m sphere_obj \u001b[39m=\u001b[39m PhantomObject(eom\u001b[39m=\u001b[39m\u001b[39mlambda\u001b[39;00m tlbr, t: tlbr, eoi\u001b[39m=\u001b[39m \u001b[39mlambda\u001b[39;00m intensity, t: intensity, tl\u001b[39m=\u001b[39mtorch\u001b[39m.\u001b[39mtensor([\u001b[39m50\u001b[39m,\u001b[39m50\u001b[39m,\u001b[39m50\u001b[39m]), geometry\u001b[39m=\u001b[39msphere, intensity\u001b[39m=\u001b[39m\u001b[39m0.5\u001b[39m)\n\u001b[0;32m      <a href='vscode-notebook-cell:/c%3A/Users/henri/4D-CT/4D-CT/src/phantom/phantom_usage.ipynb#W5sZmlsZQ%3D%3D?line=6'>7</a>\u001b[0m phantom \u001b[39m=\u001b[39m Phantom(size\u001b[39m=\u001b[39m(\u001b[39m100\u001b[39m,\u001b[39m100\u001b[39m,\u001b[39m100\u001b[39m))\n",
      "File \u001b[1;32m~\\4D-CT\\4D-CT\\src\\phantom\\phantom.py:73\u001b[0m, in \u001b[0;36mPhantomObject.__init__\u001b[1;34m(self, eom, eoi, tl, geometry, intensity)\u001b[0m\n\u001b[0;32m     71\u001b[0m \u001b[39mself\u001b[39m\u001b[39m.\u001b[39meom \u001b[39m=\u001b[39m eom  \u001b[39m# equation of motion\u001b[39;00m\n\u001b[0;32m     72\u001b[0m \u001b[39mself\u001b[39m\u001b[39m.\u001b[39meoi \u001b[39m=\u001b[39m eoi  \u001b[39m# equation of intensity\u001b[39;00m\n\u001b[1;32m---> 73\u001b[0m \u001b[39massert\u001b[39;00m \u001b[39mlen\u001b[39m(tl) \u001b[39m==\u001b[39m \u001b[39mlen\u001b[39m(geometry\u001b[39m.\u001b[39mmask\u001b[39m.\u001b[39mshape), \u001b[39m\"\u001b[39m\u001b[39mInitialization coordinates and geometry must have the same dimensionality.\u001b[39m\u001b[39m\"\u001b[39m\n\u001b[0;32m     74\u001b[0m \u001b[39mself\u001b[39m\u001b[39m.\u001b[39mtlbr_init \u001b[39m=\u001b[39m torch\u001b[39m.\u001b[39mcat((tl, tl \u001b[39m+\u001b[39m torch\u001b[39m.\u001b[39mtensor(geometry\u001b[39m.\u001b[39mmask\u001b[39m.\u001b[39mshape)),\u001b[39m0\u001b[39m)  \u001b[39m# initial tlbr coordinates of bounding box\u001b[39;00m\n\u001b[0;32m     75\u001b[0m \u001b[39mself\u001b[39m\u001b[39m.\u001b[39mtlbr \u001b[39m=\u001b[39m \u001b[39mself\u001b[39m\u001b[39m.\u001b[39mtlbr_init  \u001b[39m# tlbr coordinates of bounding box\u001b[39;00m\n",
      "\u001b[1;31mAssertionError\u001b[0m: Initialization coordinates and geometry must have the same dimensionality."
     ]
    }
   ],
   "source": [
    "cuboid = Cuboid(10, 25, 50)\n",
    "sphere = Sphere(20, 20, 20, 10)\n",
    "\n",
    "cuboid_obj = PhantomObject(eom=lambda tlbr, t: tlbr, eoi= lambda intensity, t: intensity, tl=torch.tensor([0,0]), geometry=cuboid, intensity=1)\n",
    "sphere_obj = PhantomObject(eom=lambda tlbr, t: tlbr, eoi= lambda intensity, t: intensity, tl=torch.tensor([50,50,50]), geometry=sphere, intensity=0.5)\n",
    "\n",
    "phantom = Phantom(size=(100,100,100))\n",
    "phantom.add_phantom_object(obj=[cuboid_obj, sphere_obj])"
   ]
  }
 ],
 "metadata": {
  "kernelspec": {
   "display_name": "4D-CT",
   "language": "python",
   "name": "python3"
  },
  "language_info": {
   "codemirror_mode": {
    "name": "ipython",
    "version": 3
   },
   "file_extension": ".py",
   "mimetype": "text/x-python",
   "name": "python",
   "nbconvert_exporter": "python",
   "pygments_lexer": "ipython3",
   "version": "3.10.13"
  },
  "orig_nbformat": 4
 },
 "nbformat": 4,
 "nbformat_minor": 2
}
