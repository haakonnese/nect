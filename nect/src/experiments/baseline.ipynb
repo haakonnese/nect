{
 "cells": [
  {
   "cell_type": "code",
   "execution_count": 1,
   "metadata": {},
   "outputs": [],
   "source": [
    "import torch\n",
    "import torch.nn as nn\n",
    "import torch.optim as optim\n",
    "from nect.src.model.unet import UNet\n",
    "from torch.profiler import profile, record_function, ProfilerActivity\n",
    "import torch_extra.nn as nn_extra\n",
    "import gc"
   ]
  },
  {
   "cell_type": "code",
   "execution_count": 2,
   "metadata": {},
   "outputs": [
    {
     "name": "stdout",
     "output_type": "stream",
     "text": [
      "2\n",
      "0\n"
     ]
    }
   ],
   "source": [
    "print(torch.cuda.device_count())\n",
    "print(torch.cuda.current_device())\n"
   ]
  },
  {
   "cell_type": "code",
   "execution_count": 3,
   "metadata": {},
   "outputs": [],
   "source": [
    "gc.collect()\n",
    "torch.cuda.empty_cache()"
   ]
  },
  {
   "cell_type": "code",
   "execution_count": 4,
   "metadata": {},
   "outputs": [
    {
     "data": {
      "text/plain": [
       "0"
      ]
     },
     "execution_count": 4,
     "metadata": {},
     "output_type": "execute_result"
    }
   ],
   "source": [
    "torch.cuda.memory_reserved()"
   ]
  },
  {
   "cell_type": "code",
   "execution_count": 5,
   "metadata": {},
   "outputs": [],
   "source": [
    "model = UNet3D(in_dim=1, out_dim=1, num_filters=32).to(0)"
   ]
  },
  {
   "cell_type": "code",
   "execution_count": 6,
   "metadata": {},
   "outputs": [],
   "source": [
    "X_train = torch.ones(20, 1, 128, 128, 128, device=0)\n",
    "Y_train = X_train"
   ]
  },
  {
   "cell_type": "code",
   "execution_count": 7,
   "metadata": {},
   "outputs": [],
   "source": [
    "class MSELossMSSSIM(nn.Module):\n",
    "    def __init__(self) -> None:\n",
    "        super(MSELossMSSSIM, self).__init__()\n",
    "        self.mse = nn.MSELoss()\n",
    "        self.msssim = nn_extra.MS_SSIM(data_range=1.0, spatial_dims=3, channel=1, weights=[0.0516, 0.3295, 0.3462, 0.2727])\n",
    "    \n",
    "    def forward(self, input, target):\n",
    "        mse = self.mse(input, target)\n",
    "        msssim = self.msssim(input, target)\n",
    "        loss = mse + 1 - msssim\n",
    "        return loss"
   ]
  },
  {
   "cell_type": "code",
   "execution_count": 8,
   "metadata": {},
   "outputs": [],
   "source": [
    "n_epochs = 10\n",
    "batch_size = 1\n",
    "batches_per_epoch = len(X_train) // batch_size\n",
    "optimizer = optim.Adam(model.parameters(), lr=0.001)\n",
    "loss_fn = MSELossMSSSIM()\n"
   ]
  },
  {
   "cell_type": "code",
   "execution_count": 9,
   "metadata": {},
   "outputs": [
    {
     "name": "stdout",
     "output_type": "stream",
     "text": [
      "1.6979339122772217\n",
      "0\n",
      "0.9961196780204773\n",
      "1\n",
      "0.9529314637184143\n",
      "2\n",
      "0.8756102919578552\n",
      "3\n",
      "0.8552221059799194\n",
      "4\n",
      "0.8386255502700806\n",
      "5\n",
      "0.8280497193336487\n",
      "6\n",
      "0.8208365440368652\n",
      "7\n",
      "0.8156527876853943\n",
      "8\n",
      "0.8120678067207336\n",
      "9\n",
      "0.8094010949134827\n",
      "10\n",
      "0.8063955903053284\n",
      "11\n",
      "0.8029520511627197\n",
      "12\n",
      "0.7996789216995239\n",
      "13\n",
      "0.7969745993614197\n",
      "14\n",
      "0.7945669293403625\n",
      "15\n",
      "0.79215407371521\n",
      "16\n",
      "0.7895438075065613\n",
      "17\n",
      "0.7865811586380005\n",
      "18\n",
      "0.7831820249557495\n",
      "19\n",
      "0.7793208360671997\n",
      "0\n",
      "0.7753123641014099\n",
      "1\n",
      "0.7723485827445984\n",
      "2\n",
      "0.7696572542190552\n",
      "3\n",
      "0.7672497630119324\n",
      "4\n",
      "0.7648658156394958\n",
      "5\n",
      "0.7626520991325378\n",
      "6\n",
      "0.7607199549674988\n",
      "7\n",
      "0.7588757276535034\n",
      "8\n",
      "0.7570189833641052\n",
      "9\n",
      "0.755145251750946\n",
      "10\n",
      "0.753284752368927\n",
      "11\n",
      "0.7514526844024658\n",
      "12\n",
      "0.7496365308761597\n",
      "13\n",
      "0.7478495240211487\n",
      "14\n",
      "0.7461400628089905\n",
      "15\n",
      "0.7444714307785034\n",
      "16\n",
      "0.7428178787231445\n",
      "17\n",
      "0.7411865592002869\n",
      "18\n",
      "0.7396121621131897\n",
      "19\n",
      "0.7380837202072144\n",
      "0\n",
      "0.7366008758544922\n",
      "1\n",
      "0.7350974082946777\n",
      "2\n",
      "0.7336091995239258\n",
      "3\n",
      "0.7321197390556335\n",
      "4\n",
      "0.7306572198867798\n",
      "5\n",
      "0.7292235493659973\n",
      "6\n",
      "0.7277632355690002\n",
      "7\n",
      "0.726302981376648\n",
      "8\n",
      "0.7248653769493103\n",
      "9\n",
      "0.7235329151153564\n",
      "10\n",
      "0.7221708297729492\n",
      "11\n",
      "0.7210607528686523\n",
      "12\n",
      "0.7197120189666748\n",
      "13\n",
      "0.718239963054657\n",
      "14\n",
      "0.7171427011489868\n",
      "15\n",
      "0.7156283259391785\n",
      "16\n",
      "0.7144345045089722\n",
      "17\n",
      "0.7130902409553528\n",
      "18\n",
      "0.7117477059364319\n",
      "19\n",
      "0.710621178150177\n",
      "0\n",
      "0.709279477596283\n",
      "1\n",
      "0.7082173228263855\n",
      "2\n",
      "0.7068536281585693\n",
      "3\n",
      "0.7056553363800049\n",
      "4\n",
      "0.7042692303657532\n",
      "5\n",
      "0.703024685382843\n",
      "6\n",
      "0.7017751336097717\n",
      "7\n",
      "0.7004122138023376\n",
      "8\n",
      "0.6992455720901489\n",
      "9\n",
      "0.6978960633277893\n",
      "10\n",
      "0.6967140436172485\n",
      "11\n",
      "0.6954733729362488\n",
      "12\n",
      "0.6943118572235107\n",
      "13\n",
      "0.6931188106536865\n",
      "14\n",
      "0.6919048428535461\n",
      "15\n",
      "0.6908533573150635\n",
      "16\n",
      "0.6896332502365112\n",
      "17\n",
      "0.6884807348251343\n",
      "18\n",
      "0.6873176097869873\n",
      "19\n",
      "0.6861560344696045\n",
      "0\n",
      "0.6849988698959351\n",
      "1\n",
      "0.6838424205780029\n",
      "2\n",
      "0.6827163696289062\n",
      "3\n",
      "0.681562066078186\n",
      "4\n",
      "0.6804157495498657\n",
      "5\n",
      "0.6792715191841125\n",
      "6\n",
      "0.6781554222106934\n",
      "7\n",
      "0.6770488619804382\n",
      "8\n",
      "0.6759185791015625\n",
      "9\n"
     ]
    },
    {
     "ename": "KeyboardInterrupt",
     "evalue": "",
     "output_type": "error",
     "traceback": [
      "\u001b[0;31m---------------------------------------------------------------------------\u001b[0m",
      "\u001b[0;31mKeyboardInterrupt\u001b[0m                         Traceback (most recent call last)",
      "\u001b[1;32m/cluster/work/haaknes/4D-CT/src/experiments/baseline.ipynb Cell 9\u001b[0m line \u001b[0;36m1\n\u001b[1;32m     <a href='vscode-notebook-cell://ssh-remote%2Bidun-login2.hpc.ntnu.no/cluster/work/haaknes/4D-CT/src/experiments/baseline.ipynb#W4sdnNjb2RlLXJlbW90ZQ%3D%3D?line=10'>11</a>\u001b[0m optimizer\u001b[39m.\u001b[39mzero_grad()\n\u001b[1;32m     <a href='vscode-notebook-cell://ssh-remote%2Bidun-login2.hpc.ntnu.no/cluster/work/haaknes/4D-CT/src/experiments/baseline.ipynb#W4sdnNjb2RlLXJlbW90ZQ%3D%3D?line=11'>12</a>\u001b[0m loss\u001b[39m.\u001b[39mbackward()\n\u001b[0;32m---> <a href='vscode-notebook-cell://ssh-remote%2Bidun-login2.hpc.ntnu.no/cluster/work/haaknes/4D-CT/src/experiments/baseline.ipynb#W4sdnNjb2RlLXJlbW90ZQ%3D%3D?line=12'>13</a>\u001b[0m \u001b[39mprint\u001b[39m(loss\u001b[39m.\u001b[39mitem())\n\u001b[1;32m     <a href='vscode-notebook-cell://ssh-remote%2Bidun-login2.hpc.ntnu.no/cluster/work/haaknes/4D-CT/src/experiments/baseline.ipynb#W4sdnNjb2RlLXJlbW90ZQ%3D%3D?line=13'>14</a>\u001b[0m \u001b[39mprint\u001b[39m(i)\n\u001b[1;32m     <a href='vscode-notebook-cell://ssh-remote%2Bidun-login2.hpc.ntnu.no/cluster/work/haaknes/4D-CT/src/experiments/baseline.ipynb#W4sdnNjb2RlLXJlbW90ZQ%3D%3D?line=14'>15</a>\u001b[0m \u001b[39m# update weights\u001b[39;00m\n",
      "\u001b[0;31mKeyboardInterrupt\u001b[0m: "
     ]
    }
   ],
   "source": [
    "for epoch in range(n_epochs):\n",
    "    for i in range(batches_per_epoch):\n",
    "        start = i * batch_size\n",
    "        # take a batch\n",
    "        Xbatch = X_train[start:start+batch_size]\n",
    "        ybatch = Y_train[start:start+batch_size]\n",
    "        # forward pass\n",
    "        y_pred = model(Xbatch)\n",
    "        loss = loss_fn(y_pred, ybatch)\n",
    "        # backward pass\n",
    "        optimizer.zero_grad()\n",
    "        loss.backward()\n",
    "        print(loss.item())\n",
    "        print(i)\n",
    "        # update weights\n",
    "        optimizer.step()\n"
   ]
  }
 ],
 "metadata": {
  "kernelspec": {
   "display_name": "Python 3 (ipykernel)",
   "language": "python",
   "name": "python3"
  },
  "language_info": {
   "codemirror_mode": {
    "name": "ipython",
    "version": 3
   },
   "file_extension": ".py",
   "mimetype": "text/x-python",
   "name": "python",
   "nbconvert_exporter": "python",
   "pygments_lexer": "ipython3",
   "version": "3.11.4"
  },
  "orig_nbformat": 4
 },
 "nbformat": 4,
 "nbformat_minor": 2
}
